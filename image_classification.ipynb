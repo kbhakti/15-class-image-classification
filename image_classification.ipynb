{
 "cells": [
  {
   "cell_type": "markdown",
   "metadata": {
    "id": "cc6ViAgm__R-"
   },
   "source": [
    "* The given a dataset with 15 categories (Reach out to me for the dataset).\n",
    "* Using **pretrained resnet18, densenet121, vgg19 models** on this dataset, train a **15-class classification model** and **report per-class classification accuracy in terms of precision and recall**."
   ]
  },
  {
   "cell_type": "markdown",
   "metadata": {
    "id": "BGKWL0IXXcme"
   },
   "source": [
    "# **Data Preparation**"
   ]
  },
  {
   "cell_type": "markdown",
   "metadata": {
    "id": "u6dJbDYdWpLn"
   },
   "source": [
    "**Download and Extract Dataset**"
   ]
  },
  {
   "cell_type": "code",
   "execution_count": 1,
   "metadata": {
    "colab": {
     "base_uri": "https://localhost:8080/"
    },
    "id": "aYmd8WtAU2bM",
    "outputId": "f3e8a761-3f77-437f-96a7-f6be0fa7b8b2"
   },
   "outputs": [],
   "source": [
    "!rm -rf dataset.zip dataset\n",
    "!wget --no-check-certificate 'ggggghhtydd' -O dataset.zip"
   ]
  },
  {
   "cell_type": "code",
   "execution_count": 2,
   "metadata": {
    "id": "_4p7bOntVZxm"
   },
   "outputs": [],
   "source": [
    "!unzip -q dataset.zip"
   ]
  },
  {
   "cell_type": "code",
   "execution_count": 2,
   "metadata": {
    "colab": {
     "base_uri": "https://localhost:8080/"
    },
    "id": "XL5kj9PUVcxD",
    "outputId": "890cd159-e989-4bbe-8455-c9f019d6134e"
   },
   "outputs": [],
   "source": [
    "!ls dataset"
   ]
  },
  {
   "cell_type": "markdown",
   "metadata": {
    "id": "uTmcmV9vW5xX"
   },
   "source": [
    "* **Organize Data into Train and Test Directories**\n",
    "* **Verify Directory Structure**"
   ]
  },
  {
   "cell_type": "code",
   "execution_count": 4,
   "metadata": {
    "id": "p0E2ixYpZmn9"
   },
   "outputs": [],
   "source": [
    "import os\n",
    "import shutil\n",
    "\n",
    "# Define the path to the original and new datasets\n",
    "original_dataset_path = 'dataset'\n",
    "new_dataset_path = 'dataset_new'\n",
    "\n",
    "# Create new directories for the train and test sets\n",
    "train_dir = os.path.join(new_dataset_path, 'train')\n",
    "test_dir = os.path.join(new_dataset_path, 'test')\n",
    "os.makedirs(train_dir, exist_ok=True)\n",
    "os.makedirs(test_dir, exist_ok=True)\n",
    "\n",
    "# Automatically retrieve the list of class folders\n",
    "classes = [d for d in os.listdir(original_dataset_path) if os.path.isdir(os.path.join(original_dataset_path, d))]"
   ]
  },
  {
   "cell_type": "code",
   "execution_count": 4,
   "metadata": {
    "colab": {
     "base_uri": "https://localhost:8080/"
    },
    "id": "Ep6vgevMcywo",
    "outputId": "5fad29a3-8022-4a31-92de-2cc800c619ca"
   },
   "outputs": [],
   "source": [
    "for class_name in classes:\n",
    "    # Create class directories in train and test directories\n",
    "    train_class_dir = os.path.join(train_dir, class_name)\n",
    "    test_class_dir = os.path.join(test_dir, class_name)\n",
    "    os.makedirs(train_class_dir, exist_ok=True)\n",
    "    os.makedirs(test_class_dir, exist_ok=True)\n",
    "\n",
    "    # Get all images in the class folder\n",
    "    class_folder = os.path.join(original_dataset_path, class_name)\n",
    "    images = sorted(os.listdir(class_folder))\n",
    "\n",
    "    # Move images to train or test directories based on their file names\n",
    "    for image in images:\n",
    "        image_path = os.path.join(class_folder, image)\n",
    "        if image.endswith('.jpg') or image.endswith('.png'):  # Check if the file is an image\n",
    "            image_number = int(image.split('_')[1].split('.')[0])\n",
    "            if 1 <= image_number <= 40:\n",
    "                shutil.copy(image_path, os.path.join(train_class_dir, image))\n",
    "            else:\n",
    "                shutil.copy(image_path, os.path.join(test_class_dir, image))\n",
    "\n",
    "# List the created directories for verification\n",
    "print(\"Training and testing directories created:\")\n",
    "print(os.listdir(train_dir))\n",
    "print(os.listdir(test_dir))"
   ]
  },
  {
   "cell_type": "code",
   "execution_count": 28,
   "metadata": {
    "colab": {
     "base_uri": "https://localhost:8080/"
    },
    "id": "jJhfIR-snAqh",
    "outputId": "93ef9e57-a325-4879-e3fb-1d0d4056e735"
   },
   "outputs": [
    {
     "name": "stdout",
     "output_type": "stream",
     "text": [
      "cpu\n"
     ]
    }
   ],
   "source": [
    "import torchvision\n",
    "import torch.nn as nn\n",
    "import torch\n",
    "import torch.nn.functional as F\n",
    "from torchvision import transforms, models, datasets\n",
    "import matplotlib.pyplot as plt\n",
    "from PIL import Image\n",
    "import numpy as np\n",
    "from torch import optim\n",
    "import cv2, glob, numpy as np, pandas as pd\n",
    "import matplotlib.pyplot as plt\n",
    "from glob import glob\n",
    "import torchvision.transforms as transforms\n",
    "from torch.utils.data import DataLoader, Dataset\n",
    "from sklearn.metrics import precision_score, recall_score, classification_report\n",
    "import os\n",
    "import shutil\n",
    "from random import shuffle, seed\n",
    "\n",
    "device = 'cuda' if torch.cuda.is_available() else 'cpu'\n",
    "print(device)"
   ]
  },
  {
   "cell_type": "markdown",
   "metadata": {
    "id": "me0EvEoKXn7U"
   },
   "source": [
    "# **Dataset Handling and Preprocessing**"
   ]
  },
  {
   "cell_type": "markdown",
   "metadata": {
    "id": "v0ISK8Y1YGk9"
   },
   "source": [
    "* Define Custom Dataset Class\n",
    "* Data Normalization\n",
    "* Data Loader Definition"
   ]
  },
  {
   "cell_type": "code",
   "execution_count": 5,
   "metadata": {
    "colab": {
     "base_uri": "https://localhost:8080/"
    },
    "id": "EEE4fG6cCqwF",
    "outputId": "07bf02f2-8dbf-4e6c-ee6b-5e1b8551187b"
   },
   "outputs": [],
   "source": [
    "# Automatically retrieve the list of class folders\n",
    "class_names = [d for d in os.listdir(original_dataset_path) if os.path.isdir(os.path.join(original_dataset_path, d))]\n",
    "print(f\"Class names: {class_names}\")\n",
    "\n",
    "class ClassificationDataset(Dataset):\n",
    "    def __init__(self, folder, class_names):\n",
    "        self.fpaths = []\n",
    "        for class_name in class_names:\n",
    "            self.fpaths += glob(folder + f'/{class_name}/*.jpg')\n",
    "\n",
    "        self.normalize = transforms.Normalize(mean=[0.485, 0.456, 0.406], std=[0.229, 0.224, 0.225])\n",
    "        self.class_names = class_names\n",
    "        self.class_to_idx = {class_name: idx for idx, class_name in enumerate(self.class_names)}\n",
    "        self.targets = [self.class_to_idx[fpath.split('/')[-2]] for fpath in self.fpaths]  # Store targets as class indices\n",
    "\n",
    "    def __len__(self):\n",
    "        return len(self.fpaths)\n",
    "\n",
    "    def __getitem__(self, ix):\n",
    "        f = self.fpaths[ix]\n",
    "        target = self.targets[ix]\n",
    "\n",
    "        im = cv2.imread(f)[:, :, ::-1]  # Read the image\n",
    "        im = cv2.resize(im, (224, 224))  # Resize the image\n",
    "        im = torch.tensor(im / 255).permute(2, 0, 1)  # Normalize and permute the image dimensions\n",
    "        im = self.normalize(im)  # Apply normalization\n",
    "\n",
    "        return im.float(), torch.tensor(target).long()  # Return the image and target as a LongTensor"
   ]
  },
  {
   "cell_type": "code",
   "execution_count": 19,
   "metadata": {
    "id": "smBcgaolESDp"
   },
   "outputs": [],
   "source": [
    "train_dataset = ClassificationDataset(train_dir, class_names)"
   ]
  },
  {
   "cell_type": "code",
   "execution_count": 20,
   "metadata": {
    "colab": {
     "base_uri": "https://localhost:8080/"
    },
    "id": "_ebkZe6qEbXX",
    "outputId": "531f0acf-8f7b-4fb2-9378-54b07ae72004"
   },
   "outputs": [
    {
     "data": {
      "text/plain": [
       "600"
      ]
     },
     "execution_count": 20,
     "metadata": {},
     "output_type": "execute_result"
    }
   ],
   "source": [
    "train_dataset.__len__()"
   ]
  },
  {
   "cell_type": "code",
   "execution_count": 21,
   "metadata": {
    "colab": {
     "base_uri": "https://localhost:8080/",
     "height": 469
    },
    "id": "r4gTJDfUEgJP",
    "outputId": "8bf34cc0-0484-4c3b-b620-acdf3b6078cd"
   },
   "outputs": [
    {
     "name": "stderr",
     "output_type": "stream",
     "text": [
      "WARNING:matplotlib.image:Clipping input data to the valid range for imshow with RGB data ([0..1] for floats or [0..255] for integers).\n"
     ]
    },
    {
     "name": "stdout",
     "output_type": "stream",
     "text": [
      "tensor(8)\n"
     ]
    },
    {
     "data": {
      "image/png": "[encoded data removed]",
      "text/plain": [
       "<Figure size 640x480 with 1 Axes>"
      ]
     },
     "metadata": {},
     "output_type": "display_data"
    }
   ],
   "source": [
    "im, label = train_dataset[323]\n",
    "# permute is to just keep it in the matplotlib way to display it\n",
    "plt.imshow(im.permute(1,2,0).cpu())\n",
    "print(label)"
   ]
  },
  {
   "cell_type": "markdown",
   "metadata": {
    "id": "PYX4PJIEYRsS"
   },
   "source": [
    "# **Model Training Functions**"
   ]
  },
  {
   "cell_type": "markdown",
   "metadata": {
    "id": "hsj-uAxcZJfj"
   },
   "source": [
    "**Define Training and Testing Functions**"
   ]
  },
  {
   "cell_type": "code",
   "execution_count": 22,
   "metadata": {
    "id": "7ILyORerEtIH"
   },
   "outputs": [],
   "source": [
    "def get_data():\n",
    "    train = ClassificationDataset(train_dir, class_names)\n",
    "    trn_dl = DataLoader(train, batch_size=32, shuffle=True, drop_last=True)\n",
    "    test = ClassificationDataset(test_dir, class_names)\n",
    "    test_dl = DataLoader(test, batch_size=32, shuffle=True, drop_last=True)\n",
    "    return trn_dl, test_dl"
   ]
  },
  {
   "cell_type": "code",
   "execution_count": 23,
   "metadata": {
    "id": "DFHDYrqZFGQN"
   },
   "outputs": [],
   "source": [
    "def train_batch(x, y, model, opt, loss_fn):\n",
    "    model.train()\n",
    "    prediction = model(x)\n",
    "    batch_loss = loss_fn(prediction, y)\n",
    "    batch_loss.backward()\n",
    "    opt.step()\n",
    "    opt.zero_grad()\n",
    "    return batch_loss.item()"
   ]
  },
  {
   "cell_type": "markdown",
   "metadata": {
    "id": "LHHNXVBgZQ0B"
   },
   "source": [
    "**Define Accuracy Calculation Function**"
   ]
  },
  {
   "cell_type": "code",
   "execution_count": 24,
   "metadata": {
    "id": "UQ-I3jhRFOKa"
   },
   "outputs": [],
   "source": [
    "@torch.no_grad()\n",
    "def accuracy(x, y, model):\n",
    "    model.eval()\n",
    "    prediction = model(x)\n",
    "    _, preds = torch.max(prediction, 1)  # Get the index of the max log-probability\n",
    "    is_correct = preds == y\n",
    "    return is_correct.cpu().numpy().tolist(), preds.cpu().numpy()"
   ]
  },
  {
   "cell_type": "markdown",
   "metadata": {
    "id": "aCIPRZLrFVX3"
   },
   "source": [
    "# **RESNET18 Model**"
   ]
  },
  {
   "cell_type": "markdown",
   "metadata": {
    "id": "JZ9fTJzQZc7y"
   },
   "source": [
    "**Define Model Architecture**"
   ]
  },
  {
   "cell_type": "code",
   "execution_count": 25,
   "metadata": {
    "id": "aRPE05mhFXT0"
   },
   "outputs": [],
   "source": [
    "def get_model():\n",
    "    model = models.resnet18(pretrained=True)\n",
    "    for param in model.parameters():\n",
    "        param.requires_grad = False\n",
    "    model.avgpool = nn.AdaptiveAvgPool2d(output_size=(1,1))\n",
    "    model.fc = nn.Sequential(nn.Flatten(),\n",
    "    nn.Linear(512, 128),\n",
    "    nn.ReLU(),\n",
    "    nn.Dropout(0.2),\n",
    "    nn.Linear(128, 15))\n",
    "    loss_fn = nn.CrossEntropyLoss()\n",
    "    optimizer = torch.optim.Adam(model.parameters(), lr= 1e-3)\n",
    "    return model.to(device), loss_fn, optimizer"
   ]
  },
  {
   "cell_type": "markdown",
   "metadata": {
    "id": "ENV6uq3qZwyE"
   },
   "source": [
    "**Train and Evaluate Model**"
   ]
  },
  {
   "cell_type": "code",
   "execution_count": 6,
   "metadata": {
    "colab": {
     "base_uri": "https://localhost:8080/"
    },
    "id": "rYOLYmOPFbzu",
    "outputId": "21ecfd93-d75a-4450-f738-20e24c7855c1"
   },
   "outputs": [],
   "source": [
    "trn_dl, test_dl = get_data()\n",
    "model, loss_fn, optimizer = get_model()\n",
    "\n",
    "train_losses, train_accuracies = [], []\n",
    "test_accuracies = []"
   ]
  },
  {
   "cell_type": "markdown",
   "metadata": {
    "id": "sE8Qhz_RZl8P"
   },
   "source": [
    "**Report Training and Testing Results**"
   ]
  },
  {
   "cell_type": "code",
   "execution_count": 11,
   "metadata": {
    "colab": {
     "base_uri": "https://localhost:8080/"
    },
    "id": "SJWhIm2WFtPr",
    "outputId": "cfde8e61-ad54-4050-870a-eee4adc83209"
   },
   "outputs": [],
   "source": [
    "for epoch in range(2):\n",
    "    train_epoch_losses, train_epoch_accuracies = [], []\n",
    "    test_epoch_accuracies = []\n",
    "\n",
    "    all_train_preds, all_train_labels = [], []\n",
    "    all_test_preds, all_test_labels = [], []\n",
    "\n",
    "    # Training loop\n",
    "    for ix, batch in enumerate(iter(trn_dl)):\n",
    "        x, y = batch\n",
    "        batch_loss = train_batch(x, y, model, optimizer, loss_fn)\n",
    "        train_epoch_losses.append(batch_loss)\n",
    "\n",
    "        is_correct, preds = accuracy(x, y, model)\n",
    "        all_train_preds.extend(preds)\n",
    "        all_train_labels.extend(y.cpu().numpy())\n",
    "\n",
    "    train_epoch_loss = np.array(train_epoch_losses).mean()\n",
    "    train_epoch_accuracy = np.mean(np.array(all_train_preds) == np.array(all_train_labels))\n",
    "\n",
    "    # Test loop\n",
    "    for ix, batch in enumerate(iter(test_dl)):\n",
    "        x, y = batch\n",
    "        is_correct, preds = accuracy(x, y, model)\n",
    "        all_test_preds.extend(preds)\n",
    "        all_test_labels.extend(y.cpu().numpy())\n",
    "\n",
    "    test_epoch_accuracy = np.mean(np.array(all_test_preds) == np.array(all_test_labels))\n",
    "\n",
    "    print(f\"epoch {epoch + 1}/2, Training Loss: {train_epoch_loss}, Training Accuracy: {train_epoch_accuracy}, Test Accuracy: {test_epoch_accuracy}\")\n",
    "\n",
    "    # Calculate precision and recall\n",
    "    print(\"Training Precision and Recall\")\n",
    "    print(classification_report(all_train_labels, all_train_preds, target_names=class_names))\n",
    "\n",
    "    print(\"Test Precision and Recall\")\n",
    "    print(classification_report(all_test_labels, all_test_preds, target_names=class_names))\n",
    "\n",
    "    train_losses.append(train_epoch_loss)\n",
    "    train_accuracies.append(train_epoch_accuracy)\n",
    "    test_accuracies.append(test_epoch_accuracy)"
   ]
  },
  {
   "cell_type": "markdown",
   "metadata": {
    "id": "z9TSnMIiF6N3"
   },
   "source": [
    "# **DENSENET121 Model**"
   ]
  },
  {
   "cell_type": "markdown",
   "metadata": {
    "id": "YJSg8xZzZ_nC"
   },
   "source": [
    "**Define Model Architecture**"
   ]
  },
  {
   "cell_type": "code",
   "execution_count": 30,
   "metadata": {
    "id": "FpCliXG1F8O7"
   },
   "outputs": [],
   "source": [
    "def get_model():\n",
    "\n",
    "    model = models.densenet121(pretrained=True)\n",
    "    # Freeze all parameters in the model\n",
    "    for param in model.parameters():\n",
    "        param.requires_grad = False\n",
    "\n",
    "    # Replace the classifier (fully connected) layer with a new one\n",
    "    num_ftrs = model.classifier.in_features\n",
    "    model.classifier = nn.Sequential(\n",
    "        nn.Linear(num_ftrs, 512),\n",
    "        nn.ReLU(),\n",
    "        nn.Dropout(0.2),\n",
    "        nn.Linear(512, 15)\n",
    "    )\n",
    "    loss_fn = nn.CrossEntropyLoss()\n",
    "    optimizer = torch.optim.Adam(model.parameters(), lr=1e-3)\n",
    "    return model,loss_fn, optimizer"
   ]
  },
  {
   "cell_type": "markdown",
   "metadata": {
    "id": "gFwZd9MDaFyp"
   },
   "source": [
    "**Train and Evaluate Model**"
   ]
  },
  {
   "cell_type": "code",
   "execution_count": 7,
   "metadata": {
    "colab": {
     "base_uri": "https://localhost:8080/"
    },
    "id": "pJM0NxrpGCnn",
    "outputId": "7e4e730b-9707-4318-9d1f-9bafa353e901"
   },
   "outputs": [],
   "source": [
    "trn_dl, test_dl = get_data()\n",
    "model, loss_fn, optimizer = get_model()\n",
    "\n",
    "train_losses, train_accuracies = [], []\n",
    "test_accuracies = []"
   ]
  },
  {
   "cell_type": "markdown",
   "metadata": {
    "id": "X3jwAVhqaIdi"
   },
   "source": [
    "**Report Training and Testing Results**"
   ]
  },
  {
   "cell_type": "code",
   "execution_count": 10,
   "metadata": {
    "colab": {
     "base_uri": "https://localhost:8080/"
    },
    "id": "RembH4pTGI9U",
    "outputId": "54d673a0-38a4-4815-dee2-2f4ee37550f7",
    "scrolled": false
   },
   "outputs": [],
   "source": [
    "for epoch in range(2):\n",
    "    train_epoch_losses, train_epoch_accuracies = [], []\n",
    "    test_epoch_accuracies = []\n",
    "\n",
    "    all_train_preds, all_train_labels = [], []\n",
    "    all_test_preds, all_test_labels = [], []\n",
    "\n",
    "    # Training loop\n",
    "    for ix, batch in enumerate(iter(trn_dl)):\n",
    "        x, y = batch\n",
    "        batch_loss = train_batch(x, y, model, optimizer, loss_fn)\n",
    "        train_epoch_losses.append(batch_loss)\n",
    "\n",
    "        is_correct, preds = accuracy(x, y, model)\n",
    "        all_train_preds.extend(preds)\n",
    "        all_train_labels.extend(y.cpu().numpy())\n",
    "\n",
    "    train_epoch_loss = np.array(train_epoch_losses).mean()\n",
    "    train_epoch_accuracy = np.mean(np.array(all_train_preds) == np.array(all_train_labels))\n",
    "\n",
    "    # Test loop\n",
    "    for ix, batch in enumerate(iter(test_dl)):\n",
    "        x, y = batch\n",
    "        is_correct, preds = accuracy(x, y, model)\n",
    "        all_test_preds.extend(preds)\n",
    "        all_test_labels.extend(y.cpu().numpy())\n",
    "\n",
    "    test_epoch_accuracy = np.mean(np.array(all_test_preds) == np.array(all_test_labels))\n",
    "\n",
    "    print(f\"epoch {epoch + 1}/2, Training Loss: {train_epoch_loss}, Training Accuracy: {train_epoch_accuracy}, Test Accuracy: {test_epoch_accuracy}\")\n",
    "\n",
    "    # Calculate precision and recall\n",
    "    print(\"Training Precision and Recall\")\n",
    "    print(classification_report(all_train_labels, all_train_preds, target_names=class_names))\n",
    "\n",
    "    print(\"Test Precision and Recall\")\n",
    "    print(classification_report(all_test_labels, all_test_preds, target_names=class_names))\n",
    "\n",
    "    train_losses.append(train_epoch_loss)\n",
    "    train_accuracies.append(train_epoch_accuracy)\n",
    "    test_accuracies.append(test_epoch_accuracy)"
   ]
  },
  {
   "cell_type": "markdown",
   "metadata": {
    "id": "MILxmEOPGOcB"
   },
   "source": [
    "# **VGG19 Model**"
   ]
  },
  {
   "cell_type": "markdown",
   "metadata": {
    "id": "RhhdWS7KaODV"
   },
   "source": [
    "**Define Model Architecture**"
   ]
  },
  {
   "cell_type": "code",
   "execution_count": 33,
   "metadata": {
    "id": "T4Xr4g-bGS2b"
   },
   "outputs": [],
   "source": [
    "def get_model():\n",
    "    model = models.vgg19(pretrained=True)\n",
    "    for param in model.parameters():\n",
    "        param.requires_grad = False\n",
    "    num_ftrs = model.classifier[0].in_features\n",
    "    model.classifier = nn.Sequential(\n",
    "        nn.Linear(num_ftrs, 512),\n",
    "        nn.ReLU(),\n",
    "        nn.Dropout(0.2),\n",
    "        nn.Linear(512, 15)  # Number of classes\n",
    "    )\n",
    "    loss_fn = nn.CrossEntropyLoss()\n",
    "    optimizer = torch.optim.Adam(model.classifier.parameters(), lr=1e-3)\n",
    "    return model.to(device), loss_fn, optimizer"
   ]
  },
  {
   "cell_type": "markdown",
   "metadata": {
    "id": "3kQDk_SnaTLn"
   },
   "source": [
    "**Train and Evaluate Model**"
   ]
  },
  {
   "cell_type": "code",
   "execution_count": 9,
   "metadata": {
    "colab": {
     "base_uri": "https://localhost:8080/"
    },
    "id": "jVlL_m0yG_Tw",
    "outputId": "96d23f0f-b0bb-4a5a-f055-0aa302ec5099"
   },
   "outputs": [],
   "source": [
    "trn_dl, test_dl = get_data()\n",
    "model, loss_fn, optimizer = get_model()\n",
    "\n",
    "train_losses, train_accuracies = [], []\n",
    "test_accuracies = []"
   ]
  },
  {
   "cell_type": "markdown",
   "metadata": {
    "id": "kVjce5_ZaWEh"
   },
   "source": [
    "**Report Training and Testing Results**"
   ]
  },
  {
   "cell_type": "code",
   "execution_count": 8,
   "metadata": {
    "colab": {
     "base_uri": "https://localhost:8080/"
    },
    "id": "r-z_OgU2HEdk",
    "outputId": "d8e970aa-a0e9-49e6-934c-a81b87aca088"
   },
   "outputs": [],
   "source": [
    "for epoch in range(2):\n",
    "    train_epoch_losses, train_epoch_accuracies = [], []\n",
    "    test_epoch_accuracies = []\n",
    "\n",
    "    all_train_preds, all_train_labels = [], []\n",
    "    all_test_preds, all_test_labels = [], []\n",
    "\n",
    "    # Training loop\n",
    "    for ix, batch in enumerate(iter(trn_dl)):\n",
    "        x, y = batch\n",
    "        batch_loss = train_batch(x, y, model, optimizer, loss_fn)\n",
    "        train_epoch_losses.append(batch_loss)\n",
    "\n",
    "        is_correct, preds = accuracy(x, y, model)\n",
    "        all_train_preds.extend(preds)\n",
    "        all_train_labels.extend(y.cpu().numpy())\n",
    "\n",
    "    train_epoch_loss = np.array(train_epoch_losses).mean()\n",
    "    train_epoch_accuracy = np.mean(np.array(all_train_preds) == np.array(all_train_labels))\n",
    "\n",
    "    # Test loop\n",
    "    for ix, batch in enumerate(iter(test_dl)):\n",
    "        x, y = batch\n",
    "        is_correct, preds = accuracy(x, y, model)\n",
    "        all_test_preds.extend(preds)\n",
    "        all_test_labels.extend(y.cpu().numpy())\n",
    "\n",
    "    test_epoch_accuracy = np.mean(np.array(all_test_preds) == np.array(all_test_labels))\n",
    "\n",
    "    print(f\"epoch {epoch + 1}/2, Training Loss: {train_epoch_loss}, Training Accuracy: {train_epoch_accuracy}, Test Accuracy: {test_epoch_accuracy}\")\n",
    "\n",
    "    # Calculate precision and recall\n",
    "    print(\"Training Precision and Recall\")\n",
    "    print(classification_report(all_train_labels, all_train_preds, target_names=class_names))\n",
    "\n",
    "    print(\"Test Precision and Recall\")\n",
    "    print(classification_report(all_test_labels, all_test_preds, target_names=class_names))\n",
    "\n",
    "    train_losses.append(train_epoch_loss)\n",
    "    train_accuracies.append(train_epoch_accuracy)\n",
    "    test_accuracies.append(test_epoch_accuracy)"
   ]
  },
  {
   "cell_type": "code",
   "execution_count": null,
   "metadata": {},
   "outputs": [],
   "source": []
  }
 ],
 "metadata": {
  "colab": {
   "provenance": []
  },
  "kernelspec": {
   "display_name": "Python 3 (ipykernel)",
   "language": "python",
   "name": "python3"
  },
  "language_info": {
   "codemirror_mode": {
    "name": "ipython",
    "version": 3
   },
   "file_extension": ".py",
   "mimetype": "text/x-python",
   "name": "python",
   "nbconvert_exporter": "python",
   "pygments_lexer": "ipython3",
   "version": "3.10.9"
  }
 },
 "nbformat": 4,
 "nbformat_minor": 1
}
